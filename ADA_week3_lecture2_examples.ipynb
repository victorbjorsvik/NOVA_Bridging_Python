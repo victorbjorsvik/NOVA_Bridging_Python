{
  "cells": [
    {
      "cell_type": "markdown",
      "metadata": {
        "id": "view-in-github",
        "colab_type": "text"
      },
      "source": [
        "<a href=\"https://colab.research.google.com/github/victorbjorsvik/NOVA_Bridging_Python/blob/main/ADA_week3_lecture2_examples.ipynb\" target=\"_parent\"><img src=\"https://colab.research.google.com/assets/colab-badge.svg\" alt=\"Open In Colab\"/></a>"
      ]
    },
    {
      "cell_type": "markdown",
      "id": "d9e90bac",
      "metadata": {
        "id": "d9e90bac"
      },
      "source": [
        "# Advanced Data Analysis - week 3, lecture 2\n",
        "\n",
        "In the advanced data analysis course, we assume basic knowledge of Python, as could be acquired by attending the *Introduction to Programming* bridging course.\n",
        "\n",
        "This notebook includes the examples and exercises presented in **Week 3**, lecture 2. There is an additional notebook with the examples and exercises suggested for autonomous study during the week.\n",
        "\n"
      ]
    },
    {
      "cell_type": "code",
      "source": [
        "# Install needed software\n",
        "# Run this cell once before running the other cells in the notebook\n",
        "\n",
        "!apt-get install openjdk-17-jdk-headless\n",
        "!pip install pyspark\n"
      ],
      "metadata": {
        "colab": {
          "base_uri": "https://localhost:8080/"
        },
        "id": "_c77ISnQ9O5-",
        "outputId": "050684eb-a81e-4cb9-8ec2-fbd6a2a8d1a7"
      },
      "id": "_c77ISnQ9O5-",
      "execution_count": 5,
      "outputs": [
        {
          "output_type": "stream",
          "name": "stdout",
          "text": [
            "Reading package lists... Done\n",
            "Building dependency tree... Done\n",
            "Reading state information... Done\n",
            "The following additional packages will be installed:\n",
            "  openjdk-17-jre-headless\n",
            "Suggested packages:\n",
            "  openjdk-17-demo openjdk-17-source libnss-mdns fonts-dejavu-extra fonts-ipafont-gothic\n",
            "  fonts-ipafont-mincho fonts-wqy-microhei | fonts-wqy-zenhei fonts-indic\n",
            "The following NEW packages will be installed:\n",
            "  openjdk-17-jdk-headless openjdk-17-jre-headless\n",
            "0 upgraded, 2 newly installed, 0 to remove and 18 not upgraded.\n",
            "Need to get 119 MB of archives.\n",
            "After this operation, 271 MB of additional disk space will be used.\n",
            "Get:1 http://archive.ubuntu.com/ubuntu jammy-updates/universe amd64 openjdk-17-jre-headless amd64 17.0.8.1+1~us1-0ubuntu1~22.04 [48.3 MB]\n",
            "Get:2 http://archive.ubuntu.com/ubuntu jammy-updates/universe amd64 openjdk-17-jdk-headless amd64 17.0.8.1+1~us1-0ubuntu1~22.04 [71.1 MB]\n",
            "Fetched 119 MB in 4s (30.1 MB/s)\n",
            "Selecting previously unselected package openjdk-17-jre-headless:amd64.\n",
            "(Reading database ... 120876 files and directories currently installed.)\n",
            "Preparing to unpack .../openjdk-17-jre-headless_17.0.8.1+1~us1-0ubuntu1~22.04_amd64.deb ...\n",
            "Unpacking openjdk-17-jre-headless:amd64 (17.0.8.1+1~us1-0ubuntu1~22.04) ...\n",
            "Selecting previously unselected package openjdk-17-jdk-headless:amd64.\n",
            "Preparing to unpack .../openjdk-17-jdk-headless_17.0.8.1+1~us1-0ubuntu1~22.04_amd64.deb ...\n",
            "Unpacking openjdk-17-jdk-headless:amd64 (17.0.8.1+1~us1-0ubuntu1~22.04) ...\n",
            "Setting up openjdk-17-jre-headless:amd64 (17.0.8.1+1~us1-0ubuntu1~22.04) ...\n",
            "update-alternatives: using /usr/lib/jvm/java-17-openjdk-amd64/bin/java to provide /usr/bin/java (java) in auto mode\n",
            "update-alternatives: using /usr/lib/jvm/java-17-openjdk-amd64/bin/jpackage to provide /usr/bin/jpackage (jpackage) in auto mode\n",
            "update-alternatives: using /usr/lib/jvm/java-17-openjdk-amd64/bin/keytool to provide /usr/bin/keytool (keytool) in auto mode\n",
            "update-alternatives: using /usr/lib/jvm/java-17-openjdk-amd64/bin/rmiregistry to provide /usr/bin/rmiregistry (rmiregistry) in auto mode\n",
            "update-alternatives: using /usr/lib/jvm/java-17-openjdk-amd64/lib/jexec to provide /usr/bin/jexec (jexec) in auto mode\n",
            "Setting up openjdk-17-jdk-headless:amd64 (17.0.8.1+1~us1-0ubuntu1~22.04) ...\n",
            "update-alternatives: using /usr/lib/jvm/java-17-openjdk-amd64/bin/jar to provide /usr/bin/jar (jar) in auto mode\n",
            "update-alternatives: using /usr/lib/jvm/java-17-openjdk-amd64/bin/jarsigner to provide /usr/bin/jarsigner (jarsigner) in auto mode\n",
            "update-alternatives: using /usr/lib/jvm/java-17-openjdk-amd64/bin/javac to provide /usr/bin/javac (javac) in auto mode\n",
            "update-alternatives: using /usr/lib/jvm/java-17-openjdk-amd64/bin/javadoc to provide /usr/bin/javadoc (javadoc) in auto mode\n",
            "update-alternatives: using /usr/lib/jvm/java-17-openjdk-amd64/bin/javap to provide /usr/bin/javap (javap) in auto mode\n",
            "update-alternatives: using /usr/lib/jvm/java-17-openjdk-amd64/bin/jcmd to provide /usr/bin/jcmd (jcmd) in auto mode\n",
            "update-alternatives: using /usr/lib/jvm/java-17-openjdk-amd64/bin/jdb to provide /usr/bin/jdb (jdb) in auto mode\n",
            "update-alternatives: using /usr/lib/jvm/java-17-openjdk-amd64/bin/jdeprscan to provide /usr/bin/jdeprscan (jdeprscan) in auto mode\n",
            "update-alternatives: using /usr/lib/jvm/java-17-openjdk-amd64/bin/jdeps to provide /usr/bin/jdeps (jdeps) in auto mode\n",
            "update-alternatives: using /usr/lib/jvm/java-17-openjdk-amd64/bin/jfr to provide /usr/bin/jfr (jfr) in auto mode\n",
            "update-alternatives: using /usr/lib/jvm/java-17-openjdk-amd64/bin/jimage to provide /usr/bin/jimage (jimage) in auto mode\n",
            "update-alternatives: using /usr/lib/jvm/java-17-openjdk-amd64/bin/jinfo to provide /usr/bin/jinfo (jinfo) in auto mode\n",
            "update-alternatives: using /usr/lib/jvm/java-17-openjdk-amd64/bin/jlink to provide /usr/bin/jlink (jlink) in auto mode\n",
            "update-alternatives: using /usr/lib/jvm/java-17-openjdk-amd64/bin/jmap to provide /usr/bin/jmap (jmap) in auto mode\n",
            "update-alternatives: using /usr/lib/jvm/java-17-openjdk-amd64/bin/jmod to provide /usr/bin/jmod (jmod) in auto mode\n",
            "update-alternatives: using /usr/lib/jvm/java-17-openjdk-amd64/bin/jps to provide /usr/bin/jps (jps) in auto mode\n",
            "update-alternatives: using /usr/lib/jvm/java-17-openjdk-amd64/bin/jrunscript to provide /usr/bin/jrunscript (jrunscript) in auto mode\n",
            "update-alternatives: using /usr/lib/jvm/java-17-openjdk-amd64/bin/jshell to provide /usr/bin/jshell (jshell) in auto mode\n",
            "update-alternatives: using /usr/lib/jvm/java-17-openjdk-amd64/bin/jstack to provide /usr/bin/jstack (jstack) in auto mode\n",
            "update-alternatives: using /usr/lib/jvm/java-17-openjdk-amd64/bin/jstat to provide /usr/bin/jstat (jstat) in auto mode\n",
            "update-alternatives: using /usr/lib/jvm/java-17-openjdk-amd64/bin/jstatd to provide /usr/bin/jstatd (jstatd) in auto mode\n",
            "update-alternatives: using /usr/lib/jvm/java-17-openjdk-amd64/bin/serialver to provide /usr/bin/serialver (serialver) in auto mode\n",
            "update-alternatives: using /usr/lib/jvm/java-17-openjdk-amd64/bin/jhsdb to provide /usr/bin/jhsdb (jhsdb) in auto mode\n",
            "Collecting pyspark\n",
            "  Downloading pyspark-3.5.0.tar.gz (316.9 MB)\n",
            "\u001b[2K     \u001b[90m━━━━━━━━━━━━━━━━━━━━━━━━━━━━━━━━━━━━━━━━\u001b[0m \u001b[32m316.9/316.9 MB\u001b[0m \u001b[31m4.4 MB/s\u001b[0m eta \u001b[36m0:00:00\u001b[0m\n",
            "\u001b[?25h  Preparing metadata (setup.py) ... \u001b[?25l\u001b[?25hdone\n",
            "Requirement already satisfied: py4j==0.10.9.7 in /usr/local/lib/python3.10/dist-packages (from pyspark) (0.10.9.7)\n",
            "Building wheels for collected packages: pyspark\n",
            "  Building wheel for pyspark (setup.py) ... \u001b[?25l\u001b[?25hdone\n",
            "  Created wheel for pyspark: filename=pyspark-3.5.0-py2.py3-none-any.whl size=317425344 sha256=22a89c53ce18438858732b302417d66759da7642e442336c473dc281b1af76b6\n",
            "  Stored in directory: /root/.cache/pip/wheels/41/4e/10/c2cf2467f71c678cfc8a6b9ac9241e5e44a01940da8fbb17fc\n",
            "Successfully built pyspark\n",
            "Installing collected packages: pyspark\n",
            "Successfully installed pyspark-3.5.0\n"
          ]
        }
      ]
    },
    {
      "cell_type": "code",
      "execution_count": 6,
      "id": "2af8ecae",
      "metadata": {
        "id": "2af8ecae",
        "colab": {
          "base_uri": "https://localhost:8080/"
        },
        "outputId": "4a468ccb-4558-4971-ae5c-11909374acc3"
      },
      "outputs": [
        {
          "output_type": "stream",
          "name": "stdout",
          "text": [
            "Requirement already satisfied: gdown in /usr/local/lib/python3.10/dist-packages (4.6.6)\n",
            "Requirement already satisfied: filelock in /usr/local/lib/python3.10/dist-packages (from gdown) (3.12.4)\n",
            "Requirement already satisfied: requests[socks] in /usr/local/lib/python3.10/dist-packages (from gdown) (2.31.0)\n",
            "Requirement already satisfied: six in /usr/local/lib/python3.10/dist-packages (from gdown) (1.16.0)\n",
            "Requirement already satisfied: tqdm in /usr/local/lib/python3.10/dist-packages (from gdown) (4.66.1)\n",
            "Requirement already satisfied: beautifulsoup4 in /usr/local/lib/python3.10/dist-packages (from gdown) (4.11.2)\n",
            "Requirement already satisfied: soupsieve>1.2 in /usr/local/lib/python3.10/dist-packages (from beautifulsoup4->gdown) (2.5)\n",
            "Requirement already satisfied: charset-normalizer<4,>=2 in /usr/local/lib/python3.10/dist-packages (from requests[socks]->gdown) (3.3.0)\n",
            "Requirement already satisfied: idna<4,>=2.5 in /usr/local/lib/python3.10/dist-packages (from requests[socks]->gdown) (3.4)\n",
            "Requirement already satisfied: urllib3<3,>=1.21.1 in /usr/local/lib/python3.10/dist-packages (from requests[socks]->gdown) (2.0.7)\n",
            "Requirement already satisfied: certifi>=2017.4.17 in /usr/local/lib/python3.10/dist-packages (from requests[socks]->gdown) (2023.7.22)\n",
            "Requirement already satisfied: PySocks!=1.5.7,>=1.5.6 in /usr/local/lib/python3.10/dist-packages (from requests[socks]->gdown) (1.7.1)\n",
            "Downloading...\n",
            "From: https://drive.google.com/uc?id=1Suzt37ohetSKLNP0kFUv0Ji1joiXumir\n",
            "To: /content/sbe_data_2324.zip\n",
            "100% 1.07M/1.07M [00:00<00:00, 31.7MB/s]\n",
            "Archive:  sbe_data_2324.zip\n",
            "  inflating: data/AD-covid.csv       \n",
            "  inflating: data/AE-covid.csv       \n",
            "  inflating: data/AF-covid.csv       \n",
            "  inflating: data/AG-covid.csv       \n",
            "  inflating: data/AL-covid.csv       \n",
            "  inflating: data/ALL-covid.csv      \n",
            "  inflating: data/AM-covid.csv       \n",
            "  inflating: data/AO-covid.csv       \n",
            "  inflating: data/AR-covid.csv       \n",
            "  inflating: data/AT-covid.csv       \n",
            "  inflating: data/AU-covid.csv       \n",
            "  inflating: data/AW-covid.csv       \n",
            "  inflating: data/AZ-covid.csv       \n",
            "  inflating: data/BA-covid.csv       \n",
            "  inflating: data/BB-covid.csv       \n",
            "  inflating: data/BD-covid.csv       \n",
            "  inflating: data/BE-covid.csv       \n",
            "  inflating: data/BF-covid.csv       \n",
            "  inflating: data/BG-covid.csv       \n",
            "  inflating: data/BH-covid.csv       \n",
            "  inflating: data/BI-covid.csv       \n",
            "  inflating: data/BJ-covid.csv       \n",
            "  inflating: data/BM-covid.csv       \n",
            "  inflating: data/BN-covid.csv       \n",
            "  inflating: data/BO-covid.csv       \n",
            "  inflating: data/BR-covid.csv       \n",
            "  inflating: data/BS-covid.csv       \n",
            "  inflating: data/BT-covid.csv       \n",
            "  inflating: data/BW-covid.csv       \n",
            "  inflating: data/BY-covid.csv       \n",
            "  inflating: data/BZ-covid.csv       \n",
            "  inflating: data/CA-covid.csv       \n",
            "  inflating: data/CD-covid.csv       \n",
            "  inflating: data/CF-covid.csv       \n",
            "  inflating: data/CG-covid.csv       \n",
            "  inflating: data/CH-covid.csv       \n",
            "  inflating: data/CI-covid.csv       \n",
            "  inflating: data/CL-covid.csv       \n",
            "  inflating: data/CM-covid.csv       \n",
            "  inflating: data/CN-covid.csv       \n",
            "  inflating: data/CO-covid.csv       \n",
            "  inflating: data/CR-covid.csv       \n",
            "  inflating: data/CU-covid.csv       \n",
            "  inflating: data/CV-covid.csv       \n",
            "  inflating: data/CY-covid.csv       \n",
            "  inflating: data/CZ-covid.csv       \n",
            "  inflating: data/DE-covid.csv       \n",
            "  inflating: data/DJ-covid.csv       \n",
            "  inflating: data/DK-covid.csv       \n",
            "  inflating: data/DM-covid.csv       \n",
            "  inflating: data/DO-covid.csv       \n",
            "  inflating: data/DZ-covid.csv       \n",
            "  inflating: data/EC-covid.csv       \n",
            "  inflating: data/EE-covid.csv       \n",
            "  inflating: data/EG-covid.csv       \n",
            "  inflating: data/ER-covid.csv       \n",
            "  inflating: data/ES-covid.csv       \n",
            "  inflating: data/ET-covid.csv       \n",
            "  inflating: data/FI-covid.csv       \n",
            "  inflating: data/FJ-covid.csv       \n",
            "  inflating: data/FO-covid.csv       \n",
            "  inflating: data/FR-covid.csv       \n",
            "  inflating: data/GA-covid.csv       \n",
            "  inflating: data/GB-covid.csv       \n",
            "  inflating: data/GD-covid.csv       \n",
            "  inflating: data/GE-covid.csv       \n",
            "  inflating: data/GH-covid.csv       \n",
            "  inflating: data/GL-covid.csv       \n",
            "  inflating: data/GM-covid.csv       \n",
            "  inflating: data/GN-covid.csv       \n",
            "  inflating: data/GQ-covid.csv       \n",
            "  inflating: data/GR-covid.csv       \n",
            "  inflating: data/GT-covid.csv       \n",
            "  inflating: data/GU-covid.csv       \n",
            "  inflating: data/GW-covid.csv       \n",
            "  inflating: data/GY-covid.csv       \n",
            "  inflating: data/HK-covid.csv       \n",
            "  inflating: data/HN-covid.csv       \n",
            "  inflating: data/HR-covid.csv       \n",
            "  inflating: data/HT-covid.csv       \n",
            "  inflating: data/HU-covid.csv       \n",
            "  inflating: data/ID-covid.csv       \n",
            "  inflating: data/IE-covid.csv       \n",
            "  inflating: data/IL-covid.csv       \n",
            "  inflating: data/IN-covid.csv       \n",
            "  inflating: data/IQ-covid.csv       \n",
            "  inflating: data/IR-covid.csv       \n",
            "  inflating: data/IS-covid.csv       \n",
            "  inflating: data/IT-covid.csv       \n",
            "  inflating: data/JM-covid.csv       \n",
            "  inflating: data/JO-covid.csv       \n",
            "  inflating: data/JP-covid.csv       \n",
            "  inflating: data/KE-covid.csv       \n",
            "  inflating: data/KG-covid.csv       \n",
            "  inflating: data/KH-covid.csv       \n",
            "  inflating: data/KI-covid.csv       \n",
            "  inflating: data/KM-covid.csv       \n",
            "  inflating: data/KN-covid.csv       \n",
            "  inflating: data/KR-covid.csv       \n",
            "  inflating: data/KW-covid.csv       \n",
            "  inflating: data/KZ-covid.csv       \n",
            "  inflating: data/LA-covid.csv       \n",
            "  inflating: data/LB-covid.csv       \n",
            "  inflating: data/LC-covid.csv       \n",
            "  inflating: data/LI-covid.csv       \n",
            "  inflating: data/LK-covid.csv       \n",
            "  inflating: data/LR-covid.csv       \n",
            "  inflating: data/LS-covid.csv       \n",
            "  inflating: data/LT-covid.csv       \n",
            "  inflating: data/LU-covid.csv       \n",
            "  inflating: data/LV-covid.csv       \n",
            "  inflating: data/LY-covid.csv       \n",
            "  inflating: data/MA-covid.csv       \n",
            "  inflating: data/MC-covid.csv       \n",
            "  inflating: data/MD-covid.csv       \n",
            "  inflating: data/ME-covid.csv       \n",
            "  inflating: data/MG-covid.csv       \n",
            "  inflating: data/MH-covid.csv       \n",
            "  inflating: data/ML-covid.csv       \n",
            "  inflating: data/MM-covid.csv       \n",
            "  inflating: data/MN-covid.csv       \n",
            "  inflating: data/MO-covid.csv       \n",
            "  inflating: data/MR-covid.csv       \n",
            "  inflating: data/MT-covid.csv       \n",
            "  inflating: data/MU-covid.csv       \n",
            "  inflating: data/MV-covid.csv       \n",
            "  inflating: data/MW-covid.csv       \n",
            "  inflating: data/MX-covid.csv       \n",
            "  inflating: data/MY-covid.csv       \n",
            "  inflating: data/MZ-covid.csv       \n",
            "  inflating: data/NA-covid.csv       \n",
            "  inflating: data/NE-covid.csv       \n",
            "  inflating: data/NG-covid.csv       \n",
            "  inflating: data/NI-covid.csv       \n",
            "  inflating: data/NL-covid.csv       \n",
            "  inflating: data/NO-covid.csv       \n",
            "  inflating: data/NP-covid.csv       \n",
            "  inflating: data/NZ-covid.csv       \n",
            "  inflating: data/OM-covid.csv       \n",
            "  inflating: data/PA-covid.csv       \n",
            "  inflating: data/PE-covid.csv       \n",
            "  inflating: data/PG-covid.csv       \n",
            "  inflating: data/PH-covid.csv       \n",
            "  inflating: data/PK-covid.csv       \n",
            "  inflating: data/PL-covid.csv       \n",
            "  inflating: data/PR-covid.csv       \n",
            "  inflating: data/PS-covid.csv       \n",
            "  inflating: data/PT-covid.csv       \n",
            "  inflating: data/PW-covid.csv       \n",
            "  inflating: data/PY-covid.csv       \n",
            "  inflating: data/QA-covid.csv       \n",
            "  inflating: data/RK-covid.csv       \n",
            "  inflating: data/RO-covid.csv       \n",
            "  inflating: data/RS-covid.csv       \n",
            "  inflating: data/RU-covid.csv       \n",
            "  inflating: data/RW-covid.csv       \n",
            "  inflating: data/SA-covid.csv       \n",
            "  inflating: data/SB-covid.csv       \n",
            "  inflating: data/SC-covid.csv       \n",
            "  inflating: data/SD-covid.csv       \n",
            "  inflating: data/SE-covid.csv       \n",
            "  inflating: data/SG-covid.csv       \n",
            "  inflating: data/SI-covid.csv       \n",
            "  inflating: data/SK-covid.csv       \n",
            "  inflating: data/SL-covid.csv       \n",
            "  inflating: data/SM-covid.csv       \n",
            "  inflating: data/SN-covid.csv       \n",
            "  inflating: data/SO-covid.csv       \n",
            "  inflating: data/SR-covid.csv       \n",
            "  inflating: data/SS-covid.csv       \n",
            "  inflating: data/ST-covid.csv       \n",
            "  inflating: data/SV-covid.csv       \n",
            "  inflating: data/SY-covid.csv       \n",
            "  inflating: data/SZ-covid.csv       \n",
            "  inflating: data/TD-covid.csv       \n",
            "  inflating: data/TG-covid.csv       \n",
            "  inflating: data/TH-covid.csv       \n",
            "  inflating: data/TJ-covid.csv       \n",
            "  inflating: data/TL-covid.csv       \n",
            "  inflating: data/TN-covid.csv       \n",
            "  inflating: data/TR-covid.csv       \n",
            "  inflating: data/TT-covid.csv       \n",
            "  inflating: data/TW-covid.csv       \n",
            "  inflating: data/TZ-covid.csv       \n",
            "  inflating: data/UA-covid.csv       \n",
            "  inflating: data/UG-covid.csv       \n",
            "  inflating: data/US-covid.csv       \n",
            "  inflating: data/UY-covid.csv       \n",
            "  inflating: data/UZ-covid.csv       \n",
            "  inflating: data/VC-covid.csv       \n",
            "  inflating: data/VE-covid.csv       \n",
            "  inflating: data/VI-covid.csv       \n",
            "  inflating: data/VN-covid.csv       \n",
            "  inflating: data/VU-covid.csv       \n",
            "  inflating: data/WS-covid.csv       \n",
            "  inflating: data/XK-covid.csv       \n",
            "  inflating: data/YE-covid.csv       \n",
            "  inflating: data/ZA-covid.csv       \n",
            "  inflating: data/ZM-covid.csv       \n",
            "  inflating: data/ZW-covid.csv       \n",
            "  inflating: data/lec1-example.csv   \n"
          ]
        }
      ],
      "source": [
        "# Install needed data\n",
        "# Run this cell once before running the other cells in the notebook\n",
        "\n",
        "!pip install gdown\n",
        "!gdown 'https://drive.google.com/uc?id=1Suzt37ohetSKLNP0kFUv0Ji1joiXumir'\n",
        "!unzip -o sbe_data_2324.zip"
      ]
    },
    {
      "cell_type": "markdown",
      "id": "b6f57801",
      "metadata": {
        "id": "b6f57801"
      },
      "source": [
        "## Programming (with Spark SQL)"
      ]
    },
    {
      "cell_type": "markdown",
      "id": "d3aac495",
      "metadata": {
        "id": "d3aac495"
      },
      "source": [
        "We now show how to program in Python using [**Spark SQL**](https://spark.apache.org/docs/latest/index.html).\n",
        "\n",
        "For using Spark, we need to import the necessary libraries. In the following cell we also print the version of pyspark."
      ]
    },
    {
      "cell_type": "code",
      "execution_count": 7,
      "id": "69621cc6",
      "metadata": {
        "id": "69621cc6",
        "colab": {
          "base_uri": "https://localhost:8080/"
        },
        "outputId": "c53e49a4-29f5-43fa-c8ef-6e74a21d5f74"
      },
      "outputs": [
        {
          "output_type": "stream",
          "name": "stdout",
          "text": [
            "3.5.0\n"
          ]
        }
      ],
      "source": [
        "import pyspark\n",
        "from pyspark.sql import SparkSession\n",
        "from pyspark.sql.types import *\n",
        "from pyspark.sql.functions import *\n",
        "\n",
        "print(pyspark.__version__)\n"
      ]
    },
    {
      "cell_type": "code",
      "execution_count": 8,
      "id": "d3440161",
      "metadata": {
        "id": "d3440161"
      },
      "outputs": [],
      "source": [
        "#Let's import other libraries\n",
        "import os\n",
        "os.environ[\"PYARROW_IGNORE_TIMEZONE\"] = \"1\"\n",
        "\n",
        "# imports standard Pandas as pd\n",
        "import pandas as pd\n",
        "import matplotlib.pyplot as plt\n",
        "\n",
        "# imports pandas API for Spark as ps\n",
        "import pyspark.pandas as ps\n"
      ]
    },
    {
      "cell_type": "markdown",
      "id": "83e60598",
      "metadata": {
        "id": "83e60598"
      },
      "source": [
        "For accessing the Spark system, we need to create a SparkSession.\n",
        "The Spark session accessed is in the local machine - ```master(\"local\")```.\n",
        "\n",
        "The ```.config(\"spark.sql.execution.arrow.pyspark.enabled\", \"true\")``` configuration specifies that the the arrow library can be used - this will allow to convert Spark DataFrames into Pandas DataFrames.\n"
      ]
    },
    {
      "cell_type": "code",
      "execution_count": 9,
      "id": "6ad40951",
      "metadata": {
        "id": "6ad40951"
      },
      "outputs": [],
      "source": [
        "spark = SparkSession.builder \\\n",
        "    .master(\"local\") \\\n",
        "    .appName(\"Simple test\") \\\n",
        "    .config(\"spark.sql.execution.arrow.pyspark.enabled\", \"true\") \\\n",
        "    .getOrCreate()\n"
      ]
    },
    {
      "cell_type": "markdown",
      "id": "e95d7e68",
      "metadata": {
        "id": "e95d7e68"
      },
      "source": [
        "### Data model : Table\n",
        "\n",
        "In *Spark SQL*, a table is created from a Spark [**DataFrame**](https://spark.apache.org/docs/latest/sql-programming-guide.html#datasets-and-dataframes). (follow the link for DataFrame documentation)\n",
        "\n",
        "#### Creating Spark DataFrames (1)\n",
        "\n",
        "From a Pandas Dataframe, you can use ```sparkDF = spark.createDataFrame(pandasDF)``` to create a Spark Dataframe."
      ]
    },
    {
      "cell_type": "code",
      "source": [
        "population = pd.DataFrame( { \"country\": [\"PT\", \"ES\", \"DE\"] , \\\n",
        "                            \"population\": [10276617, 46937060, 83019213]})\n",
        "\n",
        "populationSDF = spark.createDataFrame(population)\n",
        "\n",
        "populationSDF.printSchema()"
      ],
      "metadata": {
        "colab": {
          "base_uri": "https://localhost:8080/"
        },
        "id": "yABcoCuI_vDA",
        "outputId": "20befc15-87e8-4525-d500-958a27b9e436"
      },
      "id": "yABcoCuI_vDA",
      "execution_count": 10,
      "outputs": [
        {
          "output_type": "stream",
          "name": "stdout",
          "text": [
            "root\n",
            " |-- country: string (nullable = true)\n",
            " |-- population: long (nullable = true)\n",
            "\n"
          ]
        }
      ]
    },
    {
      "cell_type": "markdown",
      "source": [
        "Spark DataFrames cannot be directly printed - note that a Spark DataFrame is distributed over multiple machine. For displaying the data, it is possible to use dataframe.show().\n"
      ],
      "metadata": {
        "id": "JQHI7kNoAo6s"
      },
      "id": "JQHI7kNoAo6s"
    },
    {
      "cell_type": "code",
      "source": [
        "populationSDF.show()"
      ],
      "metadata": {
        "colab": {
          "base_uri": "https://localhost:8080/"
        },
        "id": "K19xNKFsAnwM",
        "outputId": "0cdef58f-71a6-445b-d58f-9bb742a4f273"
      },
      "id": "K19xNKFsAnwM",
      "execution_count": 11,
      "outputs": [
        {
          "output_type": "stream",
          "name": "stdout",
          "text": [
            "+-------+----------+\n",
            "|country|population|\n",
            "+-------+----------+\n",
            "|     PT|  10276617|\n",
            "|     ES|  46937060|\n",
            "|     DE|  83019213|\n",
            "+-------+----------+\n",
            "\n"
          ]
        }
      ]
    },
    {
      "cell_type": "markdown",
      "source": [
        "#### Creating Spark DataFrames (2)\n",
        "\n",
        "It is possible to create a Spark DataFrame from a Python dictionary, as follows:\n",
        "\n",
        "The equivalent Pandas code is the following:\n",
        "```\n",
        "population = pd.DataFrame( { \"country\": [\"PT\", \"ES\", \"DE\"] , \\\n",
        "                            \"population\": [10276617, 46937060, 83019213]})\n",
        "\n",
        "print( population)\n",
        "```"
      ],
      "metadata": {
        "id": "QtjoWyEd_vcB"
      },
      "id": "QtjoWyEd_vcB"
    },
    {
      "cell_type": "code",
      "execution_count": 12,
      "id": "708385d1",
      "metadata": {
        "id": "708385d1",
        "colab": {
          "base_uri": "https://localhost:8080/"
        },
        "outputId": "0d992340-6975-460c-c681-d2b298fa4113"
      },
      "outputs": [
        {
          "output_type": "stream",
          "name": "stdout",
          "text": [
            "+-------+----------+\n",
            "|country|population|\n",
            "+-------+----------+\n",
            "|     PT|  10276617|\n",
            "|     ES|  46937060|\n",
            "|     DE|  83019213|\n",
            "+-------+----------+\n",
            "\n"
          ]
        }
      ],
      "source": [
        "populationSDF2 = spark.createDataFrame( [(\"PT\",10276617), (\"ES\",46937060), (\"DE\",83019213)], \\\n",
        "                                    [\"country\",\"population\"])\n",
        "\n",
        "populationSDF2.show()\n"
      ]
    },
    {
      "cell_type": "markdown",
      "id": "73cda361",
      "metadata": {
        "id": "73cda361"
      },
      "source": [
        "#### Using Spark DataFrames in Python\n",
        "\n",
        "If you want to use the data in a Spark DataFrame with some code written in Python, it is necessary to collect the data (that will be in multiple machines) before using it.\n",
        "\n",
        "This can be done by using the **dataframe.collect()** function, which returns a list of Rows.\n"
      ]
    },
    {
      "cell_type": "code",
      "execution_count": 13,
      "id": "49a94204",
      "metadata": {
        "id": "49a94204",
        "colab": {
          "base_uri": "https://localhost:8080/"
        },
        "outputId": "035dfe27-cbe8-4325-ee23-61a25e7f42e7"
      },
      "outputs": [
        {
          "output_type": "stream",
          "name": "stdout",
          "text": [
            "[Row(country='PT', population=10276617), Row(country='ES', population=46937060), Row(country='DE', population=83019213)]\n"
          ]
        }
      ],
      "source": [
        "populationData = populationSDF.collect() # Collect the DataFrame into a list\n",
        "print(populationData[:5])               # Print the first 5 rows"
      ]
    },
    {
      "cell_type": "markdown",
      "id": "6c1498c2",
      "metadata": {
        "id": "6c1498c2"
      },
      "source": [
        "Alternatively, it is possible to collect the information to a Pandas DataFrame as follows:"
      ]
    },
    {
      "cell_type": "code",
      "execution_count": 14,
      "id": "e977cdc4",
      "metadata": {
        "id": "e977cdc4",
        "colab": {
          "base_uri": "https://localhost:8080/"
        },
        "outputId": "958f78e2-d6dc-4490-ba35-49c8f8ab4519"
      },
      "outputs": [
        {
          "output_type": "stream",
          "name": "stdout",
          "text": [
            "  country  population\n",
            "0      PT    10276617\n",
            "1      ES    46937060\n",
            "2      DE    83019213\n"
          ]
        }
      ],
      "source": [
        "populationDF = populationSDF.toPandas() # Collect the DataFrame into a Pandas DataFrame\n",
        "print(populationDF.head(5))"
      ]
    },
    {
      "cell_type": "markdown",
      "id": "2a985f4a",
      "metadata": {
        "id": "2a985f4a"
      },
      "source": [
        "#### Loading DataFrame from CSV files (1)\n",
        "\n",
        "More often, will want to load the data from files. To create a DataFrame from a CSV file, you can use the Pandas Spark API.\n",
        "\n",
        "We will also rename the column **Educational level** into **EducationalLevel**, as spaces in the names of columns makes some operations impossible in Spark SQL."
      ]
    },
    {
      "cell_type": "code",
      "execution_count": 15,
      "id": "3da4bdbc",
      "metadata": {
        "id": "3da4bdbc",
        "colab": {
          "base_uri": "https://localhost:8080/"
        },
        "outputId": "a0f7586b-020b-404d-e286-fdd9df67ac83"
      },
      "outputs": [
        {
          "output_type": "stream",
          "name": "stdout",
          "text": [
            "root\n",
            " |-- Name: string (nullable = true)\n",
            " |-- Age: integer (nullable = true)\n",
            " |-- EducationalLevel: double (nullable = true)\n",
            " |-- Company: string (nullable = true)\n",
            "\n"
          ]
        },
        {
          "output_type": "stream",
          "name": "stderr",
          "text": [
            "/usr/local/lib/python3.10/dist-packages/pyspark/pandas/utils.py:1016: PandasAPIOnSparkAdviceWarning: If `index_col` is not specified for `read_csv`, the default index is attached which can cause additional overhead.\n",
            "  warnings.warn(message, PandasAPIOnSparkAdviceWarning)\n",
            "/usr/local/lib/python3.10/dist-packages/pyspark/pandas/utils.py:1016: PandasAPIOnSparkAdviceWarning: If `index_col` is not specified for `to_spark`, the existing index is lost when converting to Spark DataFrame.\n",
            "  warnings.warn(message, PandasAPIOnSparkAdviceWarning)\n"
          ]
        }
      ],
      "source": [
        "# Let's create a PATH in a OS independent way\n",
        "# File lec1-example.csv is in directory data\n",
        "fileName = os.path.join( \"data\", \"lec1-example.csv\")\n",
        "\n",
        "# Read a CSV file into a DataFrame\n",
        "dfPS = ps.read_csv(fileName)\n",
        "\n",
        "# Convert Pandas Spark DataFrame into Spark DataFrame\n",
        "dfS = dfPS.to_spark()\n",
        "dfS = dfS.withColumnRenamed(\"Educational level\", \"EducationalLevel\")\n",
        "dfS.printSchema()\n"
      ]
    },
    {
      "cell_type": "markdown",
      "metadata": {
        "id": "xYU3iVtoOdtT"
      },
      "source": [
        "#### Loading DataFrame from CSV files (2)\n",
        "\n",
        "An alternative to load a CSV file is to use the Spark native load function ```spark.read.option(...).csv(filename)```.\n",
        "\n",
        "When reading a CSV file, use option **header** to specify whether the file has an header line or not, and **inferSchema** to specify whether Spark should try to infer the types of columns: string, integer, etc.\n"
      ],
      "id": "xYU3iVtoOdtT"
    },
    {
      "cell_type": "code",
      "execution_count": 16,
      "metadata": {
        "colab": {
          "base_uri": "https://localhost:8080/"
        },
        "outputId": "769c65a7-37fa-441a-cd89-0c007a2d3ae0",
        "id": "tkWstU-sOdte"
      },
      "outputs": [
        {
          "output_type": "stream",
          "name": "stdout",
          "text": [
            "root\n",
            " |-- Name: string (nullable = true)\n",
            " |-- Age: integer (nullable = true)\n",
            " |-- EducationalLevel: double (nullable = true)\n",
            " |-- Company: string (nullable = true)\n",
            "\n"
          ]
        }
      ],
      "source": [
        "# Let's create a PATH in a OS independent way\n",
        "# File lec1-example.csv is in directory data\n",
        "fileName = os.path.join( \"data\", \"lec1-example.csv\")\n",
        "\n",
        "# Read a CSV file into a DataFrame\n",
        "dfS2 = spark.read.option(\"header\", True).option(\"inferSchema\",True).csv(fileName)\n",
        "dfS2 = dfS2.withColumnRenamed(\"Educational level\", \"EducationalLevel\")\n",
        "\n",
        "dfS2.printSchema()\n"
      ],
      "id": "tkWstU-sOdte"
    },
    {
      "cell_type": "markdown",
      "id": "751c2109",
      "metadata": {
        "id": "751c2109"
      },
      "source": [
        "### From DataFrames to SQL table and back\n",
        "\n",
        "In Spqrk SQL, it is possible to register a DataFrame as a SQL temporaary view, using the function ```dataframe.createOrReplaceTempView(name)```.\n",
        "\n",
        "After this, it is possible to execute SQL operations using (mostly) the standard SQL syntax.\n",
        "\n",
        "The following operation registers the Dataframe with data from ```dfS``` under the name **persons** (and ```dfS2``` under **persons2**)."
      ]
    },
    {
      "cell_type": "code",
      "execution_count": 17,
      "id": "f277596d",
      "metadata": {
        "id": "f277596d"
      },
      "outputs": [],
      "source": [
        "dfS.createOrReplaceTempView(\"persons\")\n",
        "dfS2.createOrReplaceTempView(\"persons2\")"
      ]
    },
    {
      "cell_type": "markdown",
      "id": "eece8b1d",
      "metadata": {
        "id": "eece8b1d"
      },
      "source": [
        "### Data processing with Spark SQL\n",
        "\n",
        "We now show the transformations necessary to perform the exercises proposed above.\n"
      ]
    },
    {
      "cell_type": "markdown",
      "id": "69e2207f",
      "metadata": {
        "id": "69e2207f"
      },
      "source": [
        "#### SELECT statement\n",
        "\n",
        "For executing SQL statements, Spark SQL provides the operation ```spark.sql( stmt)```. The result of this operation is a DataFrame.\n",
        "\n",
        "The key SQL statement is ```SELECT cols FROM table``` that allows to access data in a SQL table.  \n",
        "The following code select all rows (```*```) from table *persons*."
      ]
    },
    {
      "cell_type": "code",
      "execution_count": 18,
      "id": "43614a1c",
      "metadata": {
        "id": "43614a1c",
        "colab": {
          "base_uri": "https://localhost:8080/"
        },
        "outputId": "5a579ed6-fa7f-4fa3-87f6-ff28af35de9a"
      },
      "outputs": [
        {
          "output_type": "stream",
          "name": "stdout",
          "text": [
            "+--------+---+----------------+-------+\n",
            "|    Name|Age|EducationalLevel|Company|\n",
            "+--------+---+----------------+-------+\n",
            "|  Andrew| 55|             1.0|   Good|\n",
            "|Bernhard| 43|             2.0|   Good|\n",
            "|Carolina| 37|             5.0|    Bad|\n",
            "|  Dennis| 82|             3.0|   Good|\n",
            "|     Eve| 23|             3.2|    Bad|\n",
            "+--------+---+----------------+-------+\n",
            "only showing top 5 rows\n",
            "\n"
          ]
        }
      ],
      "source": [
        "result = spark.sql( \"SELECT * FROM persons\")\n",
        "result.show(5)\n"
      ]
    },
    {
      "cell_type": "markdown",
      "id": "a4faa0a8",
      "metadata": {
        "id": "a4faa0a8"
      },
      "source": [
        "We now list **persons2** tables just to check that the alternative functions for creating a table work the same way."
      ]
    },
    {
      "cell_type": "code",
      "execution_count": 19,
      "id": "6332c8ef",
      "metadata": {
        "colab": {
          "base_uri": "https://localhost:8080/"
        },
        "id": "6332c8ef",
        "outputId": "3fc3641e-bb42-458f-eb1c-92e0b9ad8d13"
      },
      "outputs": [
        {
          "output_type": "stream",
          "name": "stdout",
          "text": [
            "+--------+---+----------------+-------+\n",
            "|    Name|Age|EducationalLevel|Company|\n",
            "+--------+---+----------------+-------+\n",
            "|  Andrew| 55|             1.0|   Good|\n",
            "|Bernhard| 43|             2.0|   Good|\n",
            "|Carolina| 37|             5.0|    Bad|\n",
            "|  Dennis| 82|             3.0|   Good|\n",
            "|     Eve| 23|             3.2|    Bad|\n",
            "+--------+---+----------------+-------+\n",
            "only showing top 5 rows\n",
            "\n"
          ]
        }
      ],
      "source": [
        "result = spark.sql( \"SELECT * FROM persons2\")\n",
        "result.show(5)\n",
        "\n"
      ]
    },
    {
      "cell_type": "markdown",
      "id": "37543c40",
      "metadata": {
        "id": "37543c40"
      },
      "source": [
        "And now we select only columns *name* and *age*.\n",
        "\n",
        "The equivalent Spark Pandas API code is the following:\n",
        "\n",
        "```\n",
        "# Select the persons that are good company.\n",
        "persons_age = dfPS[[\"Name\",\"Age\"]]\n",
        "\n",
        "print(persons_age)\n",
        "```"
      ]
    },
    {
      "cell_type": "code",
      "execution_count": 20,
      "id": "3cd6479b",
      "metadata": {
        "id": "3cd6479b",
        "colab": {
          "base_uri": "https://localhost:8080/"
        },
        "outputId": "3a971f53-ae97-4975-d873-6accd1048492"
      },
      "outputs": [
        {
          "output_type": "stream",
          "name": "stdout",
          "text": [
            "+--------+---+\n",
            "|    name|age|\n",
            "+--------+---+\n",
            "|  Andrew| 55|\n",
            "|Bernhard| 43|\n",
            "|Carolina| 37|\n",
            "|  Dennis| 82|\n",
            "|     Eve| 23|\n",
            "+--------+---+\n",
            "only showing top 5 rows\n",
            "\n"
          ]
        }
      ],
      "source": [
        "# Select the Name and Age.\n",
        "result = spark.sql(\"SELECT name, age FROM persons\")\n",
        "\n",
        "result.show(5)"
      ]
    },
    {
      "cell_type": "markdown",
      "id": "4ae30ef2",
      "metadata": {
        "id": "4ae30ef2"
      },
      "source": [
        "#### Selecting rows based on conditions\n",
        "\n",
        "It is possible to select only the rows for which a column has a given value by using ```SELECT cols FROM table WHERE condition``` - in the condition, columns are expressed by their names.\n",
        "\n",
        "The equivalent Spark Pandas API code is the following:\n",
        "\n",
        "```\n",
        "# Select the persons that are good company.\n",
        "goodPS = dfPS[dfPS[\"Company\"] == \"Good\"]\n",
        "```\n",
        "\n",
        "**NOTE:** SQL is not case sensitive - you can use upper or lower case for SQL keywords, table and column names, etc. It is a common practice to use SQL keywords in upper-case and table and column name in lowwer case.\n"
      ]
    },
    {
      "cell_type": "code",
      "execution_count": 21,
      "id": "5e21d039",
      "metadata": {
        "id": "5e21d039",
        "scrolled": true,
        "colab": {
          "base_uri": "https://localhost:8080/"
        },
        "outputId": "afdafb61-3b0d-4fdb-85b7-b6b3c10c89f3"
      },
      "outputs": [
        {
          "output_type": "stream",
          "name": "stdout",
          "text": [
            "+--------+---+----------------+-------+\n",
            "|    Name|Age|EducationalLevel|Company|\n",
            "+--------+---+----------------+-------+\n",
            "|  Andrew| 55|             1.0|   Good|\n",
            "|Bernhard| 43|             2.0|   Good|\n",
            "|  Dennis| 82|             3.0|   Good|\n",
            "|    Fred| 46|             5.0|   Good|\n",
            "|   James| 42|             4.1|   Good|\n",
            "|     Lea| 38|             2.5|   Good|\n",
            "|   Nigel| 71|             2.3|   Good|\n",
            "+--------+---+----------------+-------+\n",
            "\n"
          ]
        }
      ],
      "source": [
        "# Select the persons that are good company.\n",
        "good = spark.sql(\"SELECT * FROM persons WHERE company = 'Good'\")\n",
        "\n",
        "good.show()\n"
      ]
    },
    {
      "cell_type": "markdown",
      "id": "edc64a79",
      "metadata": {
        "id": "edc64a79"
      },
      "source": [
        "The next code uses a more complex condition.\n",
        "\n",
        "**Note:** In Pyhton, it is possible to create a multi-line string using the syntax\n",
        "```\n",
        "\"\"\" line 1\n",
        "...\n",
        "line n\"\"\"\n",
        "```"
      ]
    },
    {
      "cell_type": "code",
      "execution_count": 22,
      "id": "a778b139",
      "metadata": {
        "id": "a778b139",
        "colab": {
          "base_uri": "https://localhost:8080/"
        },
        "outputId": "c02da620-c474-4aad-b56c-c36a24b26f8c"
      },
      "outputs": [
        {
          "output_type": "stream",
          "name": "stdout",
          "text": [
            "+------+---+----------------+-------+\n",
            "|  Name|Age|EducationalLevel|Company|\n",
            "+------+---+----------------+-------+\n",
            "|Dennis| 82|             3.0|   Good|\n",
            "|  Fred| 46|             5.0|   Good|\n",
            "| James| 42|             4.1|   Good|\n",
            "+------+---+----------------+-------+\n",
            "\n"
          ]
        }
      ],
      "source": [
        "# Select the persons that are good company and have educational level larger than 3.\n",
        "goodEd3plus = spark.sql(\"\"\"SELECT * FROM persons\n",
        "                                    WHERE company = 'Good' AND EducationalLevel >= 3.0\n",
        "                        \"\"\")\n",
        "goodEd3plus.show()"
      ]
    },
    {
      "cell_type": "code",
      "source": [
        "# Exercise from lecture\n",
        "# Compute the number of persons that are good and bad company for persons that are older than the average age of persons.\n",
        "\n",
        "ans = spark.sql(\"\"\"SELECT  company, COUNT(*) AS over_avg FROM persons\n",
        "                                  WHERE age > (SELECT AVG(age) FROM persons)\n",
        "                                  GROUP BY company\n",
        "                \"\"\")\n",
        "ans.show()"
      ],
      "metadata": {
        "colab": {
          "base_uri": "https://localhost:8080/"
        },
        "id": "IIlVxyKMHy3i",
        "outputId": "c700f35a-496a-40bc-83ba-2ad02c274936"
      },
      "id": "IIlVxyKMHy3i",
      "execution_count": 28,
      "outputs": [
        {
          "output_type": "stream",
          "name": "stdout",
          "text": [
            "+-------+--------+\n",
            "|company|over_avg|\n",
            "+-------+--------+\n",
            "|   Good|       4|\n",
            "|    Bad|       1|\n",
            "+-------+--------+\n",
            "\n"
          ]
        }
      ]
    },
    {
      "cell_type": "markdown",
      "id": "26e62b78",
      "metadata": {
        "id": "26e62b78"
      },
      "source": [
        "#### Creating new views in SQL\n",
        "\n",
        "In Spark SQL, besides using ```dataframe.createOrReplaceTempView(name)``` to register a new view, it is possible to register a new view in SQL, using the following statement ```CREATE OR REPLACE TEMPORARY VIEW name AS SELECT ....```.\n",
        "\n",
        "The following code register a view with name *good* by selecting the persons that are good companies.\n",
        "\n",
        "NOTE: A view is a table that is the result of a query.\n"
      ]
    },
    {
      "cell_type": "code",
      "execution_count": 29,
      "id": "b18df7d8",
      "metadata": {
        "id": "b18df7d8",
        "colab": {
          "base_uri": "https://localhost:8080/"
        },
        "outputId": "09a9fbe0-5382-4a8a-bb8c-9def5827b634"
      },
      "outputs": [
        {
          "output_type": "execute_result",
          "data": {
            "text/plain": [
              "DataFrame[]"
            ]
          },
          "metadata": {},
          "execution_count": 29
        }
      ],
      "source": [
        "spark.sql(\"\"\"CREATE OR REPLACE TEMPORARY VIEW good AS\n",
        "                SELECT * FROM persons WHERE company = 'Good'\"\"\")"
      ]
    },
    {
      "cell_type": "markdown",
      "id": "9528e095",
      "metadata": {
        "id": "9528e095"
      },
      "source": [
        "Let's check that we can access to good table/view."
      ]
    },
    {
      "cell_type": "code",
      "execution_count": 30,
      "id": "6ba81c80",
      "metadata": {
        "id": "6ba81c80",
        "colab": {
          "base_uri": "https://localhost:8080/"
        },
        "outputId": "527c9990-4d80-4da6-9196-42ad1ea8f3cb"
      },
      "outputs": [
        {
          "output_type": "stream",
          "name": "stdout",
          "text": [
            "+--------+---+----------------+-------+\n",
            "|    Name|Age|EducationalLevel|Company|\n",
            "+--------+---+----------------+-------+\n",
            "|  Andrew| 55|             1.0|   Good|\n",
            "|Bernhard| 43|             2.0|   Good|\n",
            "|  Dennis| 82|             3.0|   Good|\n",
            "|    Fred| 46|             5.0|   Good|\n",
            "|   James| 42|             4.1|   Good|\n",
            "|     Lea| 38|             2.5|   Good|\n",
            "|   Nigel| 71|             2.3|   Good|\n",
            "+--------+---+----------------+-------+\n",
            "\n"
          ]
        }
      ],
      "source": [
        "goodAlt = spark.sql(\"SELECT * FROM good\")\n",
        "goodAlt.show()"
      ]
    },
    {
      "cell_type": "markdown",
      "id": "1d19290e",
      "metadata": {
        "id": "1d19290e"
      },
      "source": [
        "#### Deleting view\n",
        "\n",
        "For deleting/unregistering a view from Spark SQL, you can use the ```DROP VIEW name```statement. After this, acessing the table will lead to an **error**!"
      ]
    },
    {
      "cell_type": "code",
      "execution_count": 31,
      "id": "de3da681",
      "metadata": {
        "id": "de3da681",
        "colab": {
          "base_uri": "https://localhost:8080/",
          "height": 668
        },
        "outputId": "0ddf8c25-bce2-4941-a824-db22236d168e"
      },
      "outputs": [
        {
          "output_type": "stream",
          "name": "stdout",
          "text": [
            "+--------+---+----------------+-------+\n",
            "|    Name|Age|EducationalLevel|Company|\n",
            "+--------+---+----------------+-------+\n",
            "|  Andrew| 55|             1.0|   Good|\n",
            "|Bernhard| 43|             2.0|   Good|\n",
            "|  Dennis| 82|             3.0|   Good|\n",
            "|    Fred| 46|             5.0|   Good|\n",
            "|   James| 42|             4.1|   Good|\n",
            "|     Lea| 38|             2.5|   Good|\n",
            "|   Nigel| 71|             2.3|   Good|\n",
            "+--------+---+----------------+-------+\n",
            "\n"
          ]
        },
        {
          "output_type": "error",
          "ename": "AnalysisException",
          "evalue": "ignored",
          "traceback": [
            "\u001b[0;31m---------------------------------------------------------------------------\u001b[0m",
            "\u001b[0;31mAnalysisException\u001b[0m                         Traceback (most recent call last)",
            "\u001b[0;32m<ipython-input-31-9db09145e3aa>\u001b[0m in \u001b[0;36m<cell line: 10>\u001b[0;34m()\u001b[0m\n\u001b[1;32m      8\u001b[0m \u001b[0mspark\u001b[0m\u001b[0;34m.\u001b[0m\u001b[0msql\u001b[0m\u001b[0;34m(\u001b[0m\u001b[0;34m\"DROP VIEW goodalt\"\u001b[0m\u001b[0;34m)\u001b[0m\u001b[0;34m\u001b[0m\u001b[0;34m\u001b[0m\u001b[0m\n\u001b[1;32m      9\u001b[0m \u001b[0;31m# and check that we get an error when accessing the view\u001b[0m\u001b[0;34m\u001b[0m\u001b[0;34m\u001b[0m\u001b[0m\n\u001b[0;32m---> 10\u001b[0;31m \u001b[0mgoodAlt\u001b[0m \u001b[0;34m=\u001b[0m \u001b[0mspark\u001b[0m\u001b[0;34m.\u001b[0m\u001b[0msql\u001b[0m\u001b[0;34m(\u001b[0m\u001b[0;34m\"SELECT * FROM goodalt\"\u001b[0m\u001b[0;34m)\u001b[0m\u001b[0;34m\u001b[0m\u001b[0;34m\u001b[0m\u001b[0m\n\u001b[0m\u001b[1;32m     11\u001b[0m \u001b[0mgoodAlt\u001b[0m\u001b[0;34m.\u001b[0m\u001b[0mshow\u001b[0m\u001b[0;34m(\u001b[0m\u001b[0;34m)\u001b[0m\u001b[0;34m\u001b[0m\u001b[0;34m\u001b[0m\u001b[0m\n\u001b[1;32m     12\u001b[0m \u001b[0;34m\u001b[0m\u001b[0m\n",
            "\u001b[0;32m/usr/local/lib/python3.10/dist-packages/pyspark/sql/session.py\u001b[0m in \u001b[0;36msql\u001b[0;34m(self, sqlQuery, args, **kwargs)\u001b[0m\n\u001b[1;32m   1629\u001b[0m                     \u001b[0;34m[\u001b[0m\u001b[0m_to_java_column\u001b[0m\u001b[0;34m(\u001b[0m\u001b[0mlit\u001b[0m\u001b[0;34m(\u001b[0m\u001b[0mv\u001b[0m\u001b[0;34m)\u001b[0m\u001b[0;34m)\u001b[0m \u001b[0;32mfor\u001b[0m \u001b[0mv\u001b[0m \u001b[0;32min\u001b[0m \u001b[0;34m(\u001b[0m\u001b[0margs\u001b[0m \u001b[0;32mor\u001b[0m \u001b[0;34m[\u001b[0m\u001b[0;34m]\u001b[0m\u001b[0;34m)\u001b[0m\u001b[0;34m]\u001b[0m\u001b[0;34m\u001b[0m\u001b[0;34m\u001b[0m\u001b[0m\n\u001b[1;32m   1630\u001b[0m                 )\n\u001b[0;32m-> 1631\u001b[0;31m             \u001b[0;32mreturn\u001b[0m \u001b[0mDataFrame\u001b[0m\u001b[0;34m(\u001b[0m\u001b[0mself\u001b[0m\u001b[0;34m.\u001b[0m\u001b[0m_jsparkSession\u001b[0m\u001b[0;34m.\u001b[0m\u001b[0msql\u001b[0m\u001b[0;34m(\u001b[0m\u001b[0msqlQuery\u001b[0m\u001b[0;34m,\u001b[0m \u001b[0mlitArgs\u001b[0m\u001b[0;34m)\u001b[0m\u001b[0;34m,\u001b[0m \u001b[0mself\u001b[0m\u001b[0;34m)\u001b[0m\u001b[0;34m\u001b[0m\u001b[0;34m\u001b[0m\u001b[0m\n\u001b[0m\u001b[1;32m   1632\u001b[0m         \u001b[0;32mfinally\u001b[0m\u001b[0;34m:\u001b[0m\u001b[0;34m\u001b[0m\u001b[0;34m\u001b[0m\u001b[0m\n\u001b[1;32m   1633\u001b[0m             \u001b[0;32mif\u001b[0m \u001b[0mlen\u001b[0m\u001b[0;34m(\u001b[0m\u001b[0mkwargs\u001b[0m\u001b[0;34m)\u001b[0m \u001b[0;34m>\u001b[0m \u001b[0;36m0\u001b[0m\u001b[0;34m:\u001b[0m\u001b[0;34m\u001b[0m\u001b[0;34m\u001b[0m\u001b[0m\n",
            "\u001b[0;32m/usr/local/lib/python3.10/dist-packages/py4j/java_gateway.py\u001b[0m in \u001b[0;36m__call__\u001b[0;34m(self, *args)\u001b[0m\n\u001b[1;32m   1320\u001b[0m \u001b[0;34m\u001b[0m\u001b[0m\n\u001b[1;32m   1321\u001b[0m         \u001b[0manswer\u001b[0m \u001b[0;34m=\u001b[0m \u001b[0mself\u001b[0m\u001b[0;34m.\u001b[0m\u001b[0mgateway_client\u001b[0m\u001b[0;34m.\u001b[0m\u001b[0msend_command\u001b[0m\u001b[0;34m(\u001b[0m\u001b[0mcommand\u001b[0m\u001b[0;34m)\u001b[0m\u001b[0;34m\u001b[0m\u001b[0;34m\u001b[0m\u001b[0m\n\u001b[0;32m-> 1322\u001b[0;31m         return_value = get_return_value(\n\u001b[0m\u001b[1;32m   1323\u001b[0m             answer, self.gateway_client, self.target_id, self.name)\n\u001b[1;32m   1324\u001b[0m \u001b[0;34m\u001b[0m\u001b[0m\n",
            "\u001b[0;32m/usr/local/lib/python3.10/dist-packages/pyspark/errors/exceptions/captured.py\u001b[0m in \u001b[0;36mdeco\u001b[0;34m(*a, **kw)\u001b[0m\n\u001b[1;32m    183\u001b[0m                 \u001b[0;31m# Hide where the exception came from that shows a non-Pythonic\u001b[0m\u001b[0;34m\u001b[0m\u001b[0;34m\u001b[0m\u001b[0m\n\u001b[1;32m    184\u001b[0m                 \u001b[0;31m# JVM exception message.\u001b[0m\u001b[0;34m\u001b[0m\u001b[0;34m\u001b[0m\u001b[0m\n\u001b[0;32m--> 185\u001b[0;31m                 \u001b[0;32mraise\u001b[0m \u001b[0mconverted\u001b[0m \u001b[0;32mfrom\u001b[0m \u001b[0;32mNone\u001b[0m\u001b[0;34m\u001b[0m\u001b[0;34m\u001b[0m\u001b[0m\n\u001b[0m\u001b[1;32m    186\u001b[0m             \u001b[0;32melse\u001b[0m\u001b[0;34m:\u001b[0m\u001b[0;34m\u001b[0m\u001b[0;34m\u001b[0m\u001b[0m\n\u001b[1;32m    187\u001b[0m                 \u001b[0;32mraise\u001b[0m\u001b[0;34m\u001b[0m\u001b[0;34m\u001b[0m\u001b[0m\n",
            "\u001b[0;31mAnalysisException\u001b[0m: [TABLE_OR_VIEW_NOT_FOUND] The table or view `goodalt` cannot be found. Verify the spelling and correctness of the schema and catalog.\nIf you did not qualify the name with a schema, verify the current_schema() output, or qualify the name with the correct schema and catalog.\nTo tolerate the error on drop use DROP VIEW IF EXISTS or DROP TABLE IF EXISTS.; line 1 pos 14;\n'Project [*]\n+- 'UnresolvedRelation [goodalt], [], false\n"
          ]
        }
      ],
      "source": [
        "# Let's register the previous dataframe as goodalt\n",
        "goodAlt.createOrReplaceTempView(\"goodalt\")\n",
        "# and select all rows to check that it exists\n",
        "goodAlt = spark.sql(\"SELECT * FROM goodalt\")\n",
        "goodAlt.show()\n",
        "\n",
        "# Now, we unregister the view\n",
        "spark.sql(\"DROP VIEW goodalt\")\n",
        "# and check that we get an error when accessing the view\n",
        "goodAlt = spark.sql(\"SELECT * FROM goodalt\")\n",
        "goodAlt.show()\n",
        "\n"
      ]
    },
    {
      "cell_type": "markdown",
      "id": "90b3d2fc",
      "metadata": {
        "id": "90b3d2fc"
      },
      "source": [
        "#### Applying reduce/aggregation functions\n",
        "\n",
        "Spark SQL allows to compute a function for the values of one or multiple columns using the following syntax ```SELECT fun1(col1),... FROM ...```, where fun1 is an existing Spark function.\n",
        "\n",
        "The following example computes first, the minimum age (```min```function), and then the minimum of both *Age* and *Educational level* at the same time. Spark has multiple useful aggregation functions, including, maximum (```max```), minimum (```min```), mean (```mean```), median (```percentile_approx(col,0.5)```), standard deviation (```std```), etc. - check the  [Spark SQL **built-in** functions documentation](https://spark.apache.org/docs/latest/api/sql/index.html) for the list of available functions.\n",
        "\n",
        "The equivalent Spark Pandas SQL code is the follopwing:\n",
        "\n",
        "```\n",
        "minAgePS = goodPS[\"Age\"].min()\n",
        "print( \"Minimum age is \")\n",
        "print( minAgePS)\n",
        "\n",
        "\n",
        "minsPS = goodPS.agg({\"Age\":\"min\",\"Educational level\":\"min\"})\n",
        "print( \"Minimum information for several columns now\")\n",
        "print(minsPS)\n",
        "```"
      ]
    },
    {
      "cell_type": "code",
      "execution_count": 33,
      "id": "865e51fc",
      "metadata": {
        "id": "865e51fc",
        "colab": {
          "base_uri": "https://localhost:8080/"
        },
        "outputId": "e32cea2f-22f4-4e66-8563-6b797a7df42f"
      },
      "outputs": [
        {
          "output_type": "stream",
          "name": "stdout",
          "text": [
            "Minimum age is \n",
            "38\n",
            "Minimum information for several columns now\n",
            "+--------+---------------------+\n",
            "|min(age)|min(EducationalLevel)|\n",
            "+--------+---------------------+\n",
            "|      38|                  1.0|\n",
            "+--------+---------------------+\n",
            "\n"
          ]
        }
      ],
      "source": [
        "minAge = spark.sql(\"SELECT MIN(age) FROM good\")\n",
        "print( \"Minimum age is \")\n",
        "print( minAge.collect()[0][0])\n",
        "\n",
        "\n",
        "mins = spark.sql(\"SELECT MIN(age), MIN(EducationalLevel) FROM good\")\n",
        "print( \"Minimum information for several columns now\")\n",
        "mins.show()\n"
      ]
    },
    {
      "cell_type": "markdown",
      "id": "f953aedb",
      "metadata": {
        "id": "f953aedb"
      },
      "source": [
        "It is possible to execute different function to different columns.\n",
        "It is also possible to make rename the columns using the keyword ```AS``` for the following syntax: ```SELECT fun(...) AS name, ... FROM ....```.\n",
        "\n",
        "The equivalent Pandas / Spark Pandas code without rename (and returning the result in rows) is the following:\n",
        "```\n",
        "goodPS.agg( {\"Age\":[\"min\",\"max\"],\"Educational level\":\"median\"})\n",
        "```\n"
      ]
    },
    {
      "cell_type": "code",
      "execution_count": 34,
      "id": "b0c8ae1a",
      "metadata": {
        "id": "b0c8ae1a",
        "colab": {
          "base_uri": "https://localhost:8080/"
        },
        "outputId": "ff3c49cd-dd91-4f32-cea4-36a071a97ccd"
      },
      "outputs": [
        {
          "output_type": "stream",
          "name": "stdout",
          "text": [
            "+---+---+------+\n",
            "|min|max|median|\n",
            "+---+---+------+\n",
            "| 38| 82|   2.5|\n",
            "+---+---+------+\n",
            "\n"
          ]
        }
      ],
      "source": [
        "minAge = spark.sql(\"\"\"SELECT MIN(age) AS min,\n",
        "                             MAX(age) AS max,\n",
        "                             PERCENTILE(EducationalLevel,0.5) AS median\n",
        "                            FROM good\"\"\")\n",
        "minAge.show()"
      ]
    },
    {
      "cell_type": "markdown",
      "id": "696f1e58",
      "metadata": {
        "id": "696f1e58"
      },
      "source": [
        "Wait, this was not what we wanted in the first place - we want the information about the youngest person that is a good company.\n",
        "\n",
        "There is no function to return the N smallest (or largest elements) in Spark SQL, but it is possible to: (1) order the elements by the value of some columns ```SELECT .... FROM .... ORDER BY col1,...``` or ```SELECT .... FROM .... ORDER BY col1 DESC,...``` for ordering in descending order; and (2) use limit to specify the number of rows returned ```SELECT .... FROM .... LIMIT num```.\n",
        "\n",
        "The equivalent code in Spark Pandas API is the following:\n",
        "\n",
        "```\n",
        "youngestGoodPS = goodPS.sort_values(by=\"Age\")\n",
        "print(youngestGoodPS[:1])\n",
        "```"
      ]
    },
    {
      "cell_type": "code",
      "execution_count": 35,
      "id": "857c0251",
      "metadata": {
        "id": "857c0251",
        "colab": {
          "base_uri": "https://localhost:8080/"
        },
        "outputId": "4fa00a8c-0230-424e-9a2b-b6061f315973"
      },
      "outputs": [
        {
          "output_type": "stream",
          "name": "stdout",
          "text": [
            "+----+---+----------------+-------+\n",
            "|Name|Age|EducationalLevel|Company|\n",
            "+----+---+----------------+-------+\n",
            "| Lea| 38|             2.5|   Good|\n",
            "+----+---+----------------+-------+\n",
            "\n"
          ]
        }
      ],
      "source": [
        "youngestGood = spark.sql(\"\"\"SELECT *\n",
        "                            FROM good\n",
        "                            ORDER BY age\n",
        "                            LIMIT 1\n",
        "                            \"\"\")\n",
        "youngestGood.show()\n"
      ]
    },
    {
      "cell_type": "markdown",
      "source": [
        "We have discussed that if we only want the topmost value, in Pandas, using ```goodPS.nsmallest(1,[\"Age\"])``` is more efficient than sorting.\n",
        "\n",
        "In SQL there is no operation simillar to ```nlargest/nsmallest```.\n",
        "Does it mean that we need to rely on the inneficient sort operation?\n",
        "\n",
        "Let's use ```explain``` to tey to find out. First, we asked Spark to explain the steps to execute the SQL code.\n"
      ],
      "metadata": {
        "id": "lGWUCuPKW2ef"
      },
      "id": "lGWUCuPKW2ef"
    },
    {
      "cell_type": "code",
      "source": [
        "youngestGood.explain()\n"
      ],
      "metadata": {
        "colab": {
          "base_uri": "https://localhost:8080/"
        },
        "id": "Or0OujEQW8Gr",
        "outputId": "14c8e137-e46a-416f-a5ef-1fa64de50310"
      },
      "id": "Or0OujEQW8Gr",
      "execution_count": null,
      "outputs": [
        {
          "output_type": "stream",
          "name": "stdout",
          "text": [
            "== Physical Plan ==\n",
            "TakeOrderedAndProject(limit=1, orderBy=[age#48 ASC NULLS FIRST], output=[Name#47,Age#48,EducationalLevel#386,Company#50])\n",
            "+- *(1) Project [Name#47, Age#48, Educational level#49 AS EducationalLevel#386, Company#50]\n",
            "   +- *(1) Filter (isnotnull(company#50) AND (company#50 = Good))\n",
            "      +- FileScan csv [Name#47,Age#48,Educational level#49,Company#50] Batched: false, DataFilters: [isnotnull(Company#50), (Company#50 = Good)], Format: CSV, Location: InMemoryFileIndex(1 paths)[file:/content/data/lec1-example.csv], PartitionFilters: [], PushedFilters: [IsNotNull(Company), EqualTo(Company,Good)], ReadSchema: struct<Name:string,Age:int,Educational level:double,Company:string>\n",
            "\n",
            "\n"
          ]
        }
      ]
    },
    {
      "cell_type": "markdown",
      "source": [
        "And now, we write the Pandas code that, from the original DataFrame, uses ```nsmallest``` to compute the bottom-most element.\n"
      ],
      "metadata": {
        "id": "dNT_txnFaNQ0"
      },
      "id": "dNT_txnFaNQ0"
    },
    {
      "cell_type": "code",
      "source": [
        "goodPS = dfPS[dfPS[\"Company\"] == \"Good\"]\n",
        "youngestGoodPS = goodPS.nsmallest(1,[\"Age\"])\n",
        "youngestGoodPS.to_spark().explain()\n"
      ],
      "metadata": {
        "colab": {
          "base_uri": "https://localhost:8080/"
        },
        "id": "dLPHkc18aMfW",
        "outputId": "26a542ca-3e8f-4672-a59d-1bac98a8ce9c"
      },
      "id": "dLPHkc18aMfW",
      "execution_count": null,
      "outputs": [
        {
          "output_type": "stream",
          "name": "stdout",
          "text": [
            "== Physical Plan ==\n",
            "TakeOrderedAndProject(limit=1, orderBy=[Age#48 ASC NULLS LAST,__natural_order__#428L ASC NULLS FIRST], output=[Name#47,Age#48,Educational level#49,Company#50])\n",
            "+- *(1) Project [Name#47, Age#48, Educational level#49, Company#50, monotonically_increasing_id() AS __natural_order__#428L]\n",
            "   +- *(1) Filter CASE WHEN CASE WHEN isnull((Company#50 = Good)) THEN false ELSE isnull((Company#50 = Good)) END THEN false ELSE CASE WHEN isnull((Company#50 = Good)) THEN false ELSE (Company#50 = Good) END END\n",
            "      +- FileScan csv [Name#47,Age#48,Educational level#49,Company#50] Batched: false, DataFilters: [CASE WHEN CASE WHEN isnull((Company#50 = Good)) THEN false ELSE isnull((Company#50 = Good)) END ..., Format: CSV, Location: InMemoryFileIndex(1 paths)[file:/content/data/lec1-example.csv], PartitionFilters: [], PushedFilters: [], ReadSchema: struct<Name:string,Age:int,Educational level:double,Company:string>\n",
            "\n",
            "\n"
          ]
        }
      ]
    },
    {
      "cell_type": "markdown",
      "source": [
        "The execution plan is similar - this means that Spark, when executing a SQL statement, is optimizing the execution - it does not sort all data before getting the selected elements."
      ],
      "metadata": {
        "id": "KkuN85uRhlV2"
      },
      "id": "KkuN85uRhlV2"
    },
    {
      "cell_type": "markdown",
      "id": "f1674b54",
      "metadata": {
        "id": "f1674b54"
      },
      "source": [
        "#### Applying reduce/aggregation functions per group\n",
        "\n",
        "```SELECT fun1(col1), ... FROM ... GROUP BY colg1, ...``` allows to group the elements of a table/view before applying aggregation functions to the columns of the groups.\n",
        "\n",
        "The following example computes the lowest age for each value of Company.\n",
        "\n",
        "The equivalent Spark Dataframes code is the following:\n",
        "\n",
        "```\n",
        "youngest = df.select(\"Age\",\"Company\").groupby(\"Company\").agg({\"Age\":\"min\"})\n",
        "youngest.show()\n",
        "```"
      ]
    },
    {
      "cell_type": "code",
      "execution_count": 36,
      "id": "17ce4e10",
      "metadata": {
        "id": "17ce4e10",
        "colab": {
          "base_uri": "https://localhost:8080/"
        },
        "outputId": "04daf297-c055-409e-a5ef-16fa2b05dff2"
      },
      "outputs": [
        {
          "output_type": "stream",
          "name": "stdout",
          "text": [
            "+-------+---+\n",
            "|company|age|\n",
            "+-------+---+\n",
            "|   Good| 38|\n",
            "|    Bad| 23|\n",
            "+-------+---+\n",
            "\n"
          ]
        }
      ],
      "source": [
        "youngest = spark.sql(\"\"\"SELECT company, MIN(age) AS age\n",
        "                            FROM persons\n",
        "                            GROUP BY company\n",
        "                            \"\"\")\n",
        "youngest.show()\n"
      ]
    },
    {
      "cell_type": "markdown",
      "id": "43c03b16",
      "metadata": {
        "id": "43c03b16"
      },
      "source": [
        "In Spark SQL there is no simple way to return the largest/smallest row of a group. It is possible to use Window function or ```JOIN```. We will get back to this when introducing Windows.\n"
      ]
    },
    {
      "cell_type": "markdown",
      "id": "33ea2ed3",
      "metadata": {
        "id": "33ea2ed3"
      },
      "source": [
        "### Exercises\n",
        "\n",
        "What transformations would you use to:\n",
        "\n",
        "* Compute the average age of good and bad companies ?\n",
        "\n",
        "* Know which group has lower average Education level: good or bad companies ?"
      ]
    },
    {
      "cell_type": "code",
      "execution_count": 40,
      "id": "ddc16477",
      "metadata": {
        "id": "ddc16477",
        "colab": {
          "base_uri": "https://localhost:8080/"
        },
        "outputId": "7a609f91-b70b-4947-9c1b-872649359be6"
      },
      "outputs": [
        {
          "output_type": "stream",
          "name": "stdout",
          "text": [
            "+-------+-------+\n",
            "|company|avg_age|\n",
            "+-------+-------+\n",
            "|   Good|  53.86|\n",
            "|    Bad|  34.71|\n",
            "+-------+-------+\n",
            "\n"
          ]
        }
      ],
      "source": [
        "# Compute the average age of good and bad companies\n",
        "\n",
        "aver = spark.sql(\"\"\"SELECT company, ROUND(AVG(age),2) as avg_age FROM persons\n",
        "                    GROUP BY company\"\"\")\n",
        "aver.show()\n"
      ]
    },
    {
      "cell_type": "code",
      "execution_count": 46,
      "id": "06b286d8",
      "metadata": {
        "id": "06b286d8",
        "colab": {
          "base_uri": "https://localhost:8080/"
        },
        "outputId": "bc3aeddd-44fd-4e6d-c5aa-cbc84de00e0c"
      },
      "outputs": [
        {
          "output_type": "stream",
          "name": "stdout",
          "text": [
            "+-------+-----------------+\n",
            "|company|     avg_ed_level|\n",
            "+-------+-----------------+\n",
            "|   Good|2.842857142857143|\n",
            "|    Bad|4.314285714285714|\n",
            "+-------+-----------------+\n",
            "\n"
          ]
        }
      ],
      "source": [
        "# Know which group has lower average Education level: good or bad companies ?\n",
        "\n",
        "ed_level = spark.sql(\"\"\"SELECT company, AVG(educationallevel) as avg_ed_level\n",
        "                        FROM persons\n",
        "                        GROUP BY company\n",
        "                        ORDER by AVG(educationallevel)\n",
        "                        \"\"\")\n",
        "\n",
        "ed_level.show()\n"
      ]
    },
    {
      "cell_type": "markdown",
      "id": "f8cd37e1",
      "metadata": {
        "id": "f8cd37e1"
      },
      "source": [
        "### Using SELECT results in SELECT statements\n",
        "\n",
        "It is possble to use the result of a SELECT statement as part of another SELECT statement.\n",
        "\n",
        "The following code counts the number of persons older than Fred.\n"
      ]
    },
    {
      "cell_type": "code",
      "execution_count": 47,
      "id": "f967155c",
      "metadata": {
        "id": "f967155c",
        "colab": {
          "base_uri": "https://localhost:8080/"
        },
        "outputId": "4fa72416-bb48-465f-d2ee-18a8e0bbcc00"
      },
      "outputs": [
        {
          "output_type": "stream",
          "name": "stdout",
          "text": [
            "+---+\n",
            "|cnt|\n",
            "+---+\n",
            "|  4|\n",
            "+---+\n",
            "\n"
          ]
        }
      ],
      "source": [
        "result = spark.sql( \"\"\"SELECT count(*) AS cnt FROM persons\n",
        "                    WHERE age > (SELECT age FROM persons WHERE name = 'Fred')\"\"\")\n",
        "result.show()"
      ]
    },
    {
      "cell_type": "markdown",
      "id": "ffa97f15",
      "metadata": {
        "id": "ffa97f15"
      },
      "source": [
        "### Exercise\n",
        "\n",
        "Compute the number of persons that are good and bad company for persons that are older than the average age of persons."
      ]
    },
    {
      "cell_type": "code",
      "execution_count": 50,
      "id": "c1e1b168",
      "metadata": {
        "id": "c1e1b168",
        "colab": {
          "base_uri": "https://localhost:8080/"
        },
        "outputId": "c388f90b-6e28-484a-b6b0-084ca1972727"
      },
      "outputs": [
        {
          "output_type": "stream",
          "name": "stdout",
          "text": [
            "+-------+--------+\n",
            "|company|count(1)|\n",
            "+-------+--------+\n",
            "|   Good|       4|\n",
            "|    Bad|       1|\n",
            "+-------+--------+\n",
            "\n"
          ]
        }
      ],
      "source": [
        "#TODO: complete\n",
        "\n",
        "spark.sql(\"\"\"SELECT company, COUNT(*)\n",
        "              FROM persons\n",
        "              WHERE age > (SELECT AVG(age) from persons)\n",
        "              GROUP BY company\"\"\").show()"
      ]
    },
    {
      "cell_type": "markdown",
      "id": "d0630f83",
      "metadata": {
        "id": "d0630f83"
      },
      "source": [
        "### Plotting data with Spark SQL\n",
        "\n",
        "For plotting, it is necessary to collect the data to print. We can get the data as the result of a SQL statement and use everything we studied before.\n"
      ]
    },
    {
      "cell_type": "code",
      "execution_count": 51,
      "id": "1497d2af",
      "metadata": {
        "id": "1497d2af"
      },
      "outputs": [],
      "source": [
        "pdDF = spark.sql(\"SELECT * FROM persons\").toPandas()\n"
      ]
    },
    {
      "cell_type": "markdown",
      "id": "fdf7c84e",
      "metadata": {
        "id": "fdf7c84e"
      },
      "source": [
        "Executing the function ```plot()``` to a DataFrame just plots numeric values, with the X axis being the index."
      ]
    },
    {
      "cell_type": "code",
      "execution_count": 52,
      "id": "c2f77887",
      "metadata": {
        "id": "c2f77887",
        "colab": {
          "base_uri": "https://localhost:8080/",
          "height": 447
        },
        "outputId": "3144f603-d0d6-4248-9b9c-b0469f7dc3db"
      },
      "outputs": [
        {
          "output_type": "execute_result",
          "data": {
            "text/plain": [
              "<Axes: >"
            ]
          },
          "metadata": {},
          "execution_count": 52
        },
        {
          "output_type": "display_data",
          "data": {
            "text/plain": [
              "<Figure size 640x480 with 1 Axes>"
            ],
            "image/png": "[encoded data removed]"
          },
          "metadata": {}
        }
      ],
      "source": [
        "pdDF.plot()\n"
      ]
    },
    {
      "cell_type": "markdown",
      "id": "70777c14",
      "metadata": {
        "id": "70777c14"
      },
      "source": [
        "You can specify which columns should be used for the X and Y axis, by passing values for ```x```and ```y``` parameters."
      ]
    },
    {
      "cell_type": "code",
      "execution_count": 53,
      "id": "775e9afc",
      "metadata": {
        "id": "775e9afc",
        "colab": {
          "base_uri": "https://localhost:8080/",
          "height": 466
        },
        "outputId": "9bb1979f-d82e-4c4c-ef0d-99bdcfde3092"
      },
      "outputs": [
        {
          "output_type": "execute_result",
          "data": {
            "text/plain": [
              "<Axes: xlabel='Name'>"
            ]
          },
          "metadata": {},
          "execution_count": 53
        },
        {
          "output_type": "display_data",
          "data": {
            "text/plain": [
              "<Figure size 640x480 with 1 Axes>"
            ],
            "image/png": "[encoded data removed]"
          },
          "metadata": {}
        }
      ],
      "source": [
        "pdDF.plot(x=\"Name\",y=\"Age\")"
      ]
    },
    {
      "cell_type": "markdown",
      "id": "5bbca72e",
      "metadata": {
        "id": "5bbca72e"
      },
      "source": [
        "The following example shows how to plot a histogram for companies, by computing the histogram values.\n"
      ]
    },
    {
      "cell_type": "code",
      "execution_count": 54,
      "id": "14e583ed",
      "metadata": {
        "id": "14e583ed",
        "colab": {
          "base_uri": "https://localhost:8080/",
          "height": 489
        },
        "outputId": "5208a491-f478-4781-8d83-3d180be5489f"
      },
      "outputs": [
        {
          "output_type": "execute_result",
          "data": {
            "text/plain": [
              "<Axes: xlabel='Company'>"
            ]
          },
          "metadata": {},
          "execution_count": 54
        },
        {
          "output_type": "display_data",
          "data": {
            "text/plain": [
              "<Figure size 640x480 with 1 Axes>"
            ],
            "image/png": "[encoded data removed]"
          },
          "metadata": {}
        }
      ],
      "source": [
        "histDF = spark.sql(\"SELECT Company, count(*) AS count FROM persons GROUP BY company\").toPandas()\n",
        "histDF.plot(kind=\"bar\",x=\"Company\")"
      ]
    },
    {
      "cell_type": "markdown",
      "id": "a09480f7",
      "metadata": {
        "id": "a09480f7"
      },
      "source": [
        "## Time-series\n",
        "\n",
        "A time-series is a series of values that have a timestamp.\n",
        "\n",
        "A time-series can be **Univariate** if it has a single feature (e.g. stock index, mortality, birth rate, etc.) , or **Multivariate** if it has multiple features (e.g. Weather, composed by (temperature, pressure, humidity, etc.)).\n",
        "\n"
      ]
    },
    {
      "cell_type": "markdown",
      "id": "1272adf7",
      "metadata": {
        "id": "1272adf7"
      },
      "source": [
        "#### Example\n",
        "\n",
        "In the examples, we will use data from COVID cases. The data files are in *data* directory, and consist of tables with 5 columns, *date*, *countrycode*, *population*, *cases*, *deaths*.\n",
        "\n",
        "The name of the data files starts with the Internet code for the country, and has the format *CODE-covid.csv*, where CODE is the country code in uppercase.  \n",
        "\n",
        "![table](images/table.png)\n",
        "\n",
        "Let's read the data for Portugal.\n",
        "<!--Unlike previous examples, we will use the date as the index, by passing ```index_col``` parameter in ```read_csv```function.-->"
      ]
    },
    {
      "cell_type": "code",
      "execution_count": 55,
      "id": "36fd6f58",
      "metadata": {
        "id": "36fd6f58",
        "colab": {
          "base_uri": "https://localhost:8080/"
        },
        "outputId": "2083e220-fa21-4485-b1b9-9a2f7b6289d3"
      },
      "outputs": [
        {
          "output_type": "stream",
          "name": "stdout",
          "text": [
            "+----------+-----------+----------+-----+------+\n",
            "|      date|countrycode|population|cases|deaths|\n",
            "+----------+-----------+----------+-----+------+\n",
            "|2020-03-02|         PT|  10276617|    0|     0|\n",
            "|2020-03-03|         PT|  10276617|    0|     0|\n",
            "|2020-03-04|         PT|  10276617|    3|     0|\n",
            "|2020-03-05|         PT|  10276617|    3|     0|\n",
            "|2020-03-06|         PT|  10276617|    5|     0|\n",
            "+----------+-----------+----------+-----+------+\n",
            "only showing top 5 rows\n",
            "\n"
          ]
        }
      ],
      "source": [
        "ptCovidFileName = os.path.join( \"data\", \"PT-covid.csv\")\n",
        "\n",
        "# Read a CSV file into a DataFrame\n",
        "ptCovidDF = spark.read.option(\"header\", True).option(\"inferSchema\",True).csv(ptCovidFileName)\n",
        "\n",
        "# Converts the date into the datetime type\n",
        "ptCovidDF = ptCovidDF.withColumn(\"date\",to_date(col(\"date\"), \"yyyy-MM-dd\"))\n",
        "\n",
        "## Register Dataframe as a temporary view\n",
        "ptCovidDF.createOrReplaceTempView(\"covidPT\")\n",
        "\n",
        "# Print the first 5 lines of data\n",
        "ptCovidDF.show(5)\n"
      ]
    },
    {
      "cell_type": "markdown",
      "id": "c7783776",
      "metadata": {
        "id": "c7783776"
      },
      "source": [
        "### Adding columns\n",
        "\n",
        "Until now, the only one-to-* transformations we have seen consisted in filters and selecting a subset of columns. Sometime, it is interesting to add columns based on the values of the row.\n",
        "\n",
        "In the previous example, we want to add columns with the number of cases and deaths per million inhabitants. We can use ```SELECT ... FROM ... ``` to return a DataFrame with as many columns as we want.\n",
        "\n",
        "The equivalente Spark Pandas API code is the following:\n",
        "```\n",
        "ptCovidDF[\"casesPer1M\"] = ptCovidDF[\"cases\"] / ptCovidDF[\"population\"] / 1000000\n",
        "ptCovidDF[\"deathsPer1M\"] = ptCovidDF[\"deaths\"] / ptCovidDF[\"population\"] / 1000000\n",
        "```\n"
      ]
    },
    {
      "cell_type": "code",
      "execution_count": 56,
      "id": "35a7dc87",
      "metadata": {
        "id": "35a7dc87",
        "colab": {
          "base_uri": "https://localhost:8080/"
        },
        "outputId": "e4c0e9f2-86ac-4ccc-b98e-95eb7e483e14"
      },
      "outputs": [
        {
          "output_type": "stream",
          "name": "stdout",
          "text": [
            "+----------+-----------+----------+-----+------+--------------------+-----------+\n",
            "|      date|countrycode|population|cases|deaths|          casesPer1M|deathsPer1M|\n",
            "+----------+-----------+----------+-----+------+--------------------+-----------+\n",
            "|2020-03-02|         PT|  10276617|    0|     0|                 0.0|        0.0|\n",
            "|2020-03-03|         PT|  10276617|    0|     0|                 0.0|        0.0|\n",
            "|2020-03-04|         PT|  10276617|    3|     0|2.919248620436083...|        0.0|\n",
            "|2020-03-05|         PT|  10276617|    3|     0|2.919248620436083...|        0.0|\n",
            "|2020-03-06|         PT|  10276617|    5|     0|4.865414367393472...|        0.0|\n",
            "+----------+-----------+----------+-----+------+--------------------+-----------+\n",
            "only showing top 5 rows\n",
            "\n"
          ]
        }
      ],
      "source": [
        "ptCovidDF = spark.sql( \"\"\"SELECT *, cases / population / 1000000 AS casesPer1M,\n",
        "                                    deaths / population / 1000000 AS deathsPer1M\n",
        "                                FROM covidPT\n",
        "                        \"\"\")\n",
        "# Print the first 5 lines of data\n",
        "ptCovidDF.show(5)"
      ]
    },
    {
      "cell_type": "markdown",
      "id": "995f3d0f",
      "metadata": {
        "id": "995f3d0f"
      },
      "source": [
        "It is also possible to register the results as a new table/view."
      ]
    },
    {
      "cell_type": "code",
      "execution_count": 57,
      "id": "feff4fd5",
      "metadata": {
        "id": "feff4fd5",
        "colab": {
          "base_uri": "https://localhost:8080/"
        },
        "outputId": "4a3a9d26-7749-4138-bb6b-5b18b4fa4293"
      },
      "outputs": [
        {
          "output_type": "stream",
          "name": "stdout",
          "text": [
            "+----------+-----------+----------+-----+------+--------------------+-----------+\n",
            "|      date|countrycode|population|cases|deaths|          casesPer1M|deathsPer1M|\n",
            "+----------+-----------+----------+-----+------+--------------------+-----------+\n",
            "|2020-03-02|         PT|  10276617|    0|     0|                 0.0|        0.0|\n",
            "|2020-03-03|         PT|  10276617|    0|     0|                 0.0|        0.0|\n",
            "|2020-03-04|         PT|  10276617|    3|     0|2.919248620436083...|        0.0|\n",
            "|2020-03-05|         PT|  10276617|    3|     0|2.919248620436083...|        0.0|\n",
            "|2020-03-06|         PT|  10276617|    5|     0|4.865414367393472...|        0.0|\n",
            "+----------+-----------+----------+-----+------+--------------------+-----------+\n",
            "only showing top 5 rows\n",
            "\n"
          ]
        }
      ],
      "source": [
        "spark.sql( \"\"\"SELECT *, cases / population / 1000000 AS casesPer1M,\n",
        "                                    deaths / population / 1000000 AS deathsPer1M\n",
        "                                FROM covidPT\n",
        "                        \"\"\").createOrReplaceTempView(\"covidPT2\")\n",
        "\n",
        "ptCovidDF = spark.sql(\"SELECT * FROM covidPT2\")\n",
        "# Print the first 5 lines of data\n",
        "ptCovidDF.show(5)"
      ]
    },
    {
      "cell_type": "markdown",
      "id": "b9e2c8cf",
      "metadata": {
        "id": "b9e2c8cf"
      },
      "source": [
        "Let's plot the data, using two Y axis, specifying the columns to be used for the X and Y axis. ```secondary_y```allows to use a secondary index for the second line."
      ]
    },
    {
      "cell_type": "code",
      "execution_count": 58,
      "id": "198aca3b",
      "metadata": {
        "id": "198aca3b",
        "colab": {
          "base_uri": "https://localhost:8080/",
          "height": 466
        },
        "outputId": "5808c640-4490-47c6-c25a-599016521e5e"
      },
      "outputs": [
        {
          "output_type": "execute_result",
          "data": {
            "text/plain": [
              "<Axes: xlabel='date'>"
            ]
          },
          "metadata": {},
          "execution_count": 58
        },
        {
          "output_type": "display_data",
          "data": {
            "text/plain": [
              "<Figure size 640x480 with 1 Axes>"
            ],
            "image/png": "[encoded data removed]"
          },
          "metadata": {}
        }
      ],
      "source": [
        "ptCovidPdDF = ptCovidDF.toPandas()\n",
        "\n",
        "ptCovidPdDF.plot(x=\"date\",y=[\"cases\",\"deaths\"])\n"
      ]
    },
    {
      "cell_type": "code",
      "execution_count": 59,
      "id": "cdbbdf57",
      "metadata": {
        "id": "cdbbdf57",
        "colab": {
          "base_uri": "https://localhost:8080/",
          "height": 466
        },
        "outputId": "7adf2bef-155f-4e06-e049-83274dcb4829"
      },
      "outputs": [
        {
          "output_type": "execute_result",
          "data": {
            "text/plain": [
              "<Axes: xlabel='date'>"
            ]
          },
          "metadata": {},
          "execution_count": 59
        },
        {
          "output_type": "display_data",
          "data": {
            "text/plain": [
              "<Figure size 640x480 with 2 Axes>"
            ],
            "image/png": "[encoded data removed]"
          },
          "metadata": {}
        }
      ],
      "source": [
        "ptCovidPdDF.plot(x=\"date\",y=[\"cases\",\"deaths\"],secondary_y=[\"deaths\"])"
      ]
    },
    {
      "cell_type": "markdown",
      "id": "5cffe6ca",
      "metadata": {
        "id": "5cffe6ca"
      },
      "source": [
        "It is also possible to use subplot to plot multiple lines, one at a time."
      ]
    },
    {
      "cell_type": "code",
      "execution_count": 60,
      "id": "47e0e69c",
      "metadata": {
        "id": "47e0e69c",
        "colab": {
          "base_uri": "https://localhost:8080/",
          "height": 465
        },
        "outputId": "524a7ee8-9b14-4fd3-e55e-98a5d676ba08"
      },
      "outputs": [
        {
          "output_type": "display_data",
          "data": {
            "text/plain": [
              "<Figure size 640x480 with 2 Axes>"
            ],
            "image/png": "[encoded data removed]"
          },
          "metadata": {}
        }
      ],
      "source": [
        "fig, axis = plt.subplots()\n",
        "ptCovidPdDF.plot(ax=axis,x=\"date\",y=\"casesPer1M\")\n",
        "ptCovidPdDF.plot(ax=axis,x=\"date\",y=\"deathsPer1M\",secondary_y=\"deathsPer1M\")\n",
        "\n",
        "plt.show()\n"
      ]
    },
    {
      "cell_type": "markdown",
      "id": "1cb1540f",
      "metadata": {
        "id": "1cb1540f"
      },
      "source": [
        "## Exercises"
      ]
    },
    {
      "cell_type": "markdown",
      "id": "1c32d861",
      "metadata": {
        "id": "1c32d861"
      },
      "source": [
        "### Compute the number of days for which the number of cases is larger than the average number of cases\n",
        "\n"
      ]
    },
    {
      "cell_type": "code",
      "execution_count": 62,
      "id": "9e5adc83",
      "metadata": {
        "id": "9e5adc83",
        "colab": {
          "base_uri": "https://localhost:8080/"
        },
        "outputId": "93e5cb26-8ec5-4f4f-a226-a8b56170cc31"
      },
      "outputs": [
        {
          "output_type": "stream",
          "name": "stdout",
          "text": [
            "+-------------+\n",
            "|days_over_avg|\n",
            "+-------------+\n",
            "|          159|\n",
            "+-------------+\n",
            "\n"
          ]
        }
      ],
      "source": [
        "spark.sql(\"\"\"SELECT COUNT(date) as days_over_avg\n",
        "              FROM covidpt\n",
        "              WHERE cases > (SELECT AVG(cases) from covidpt)\n",
        "              \"\"\").show()\n",
        "\n",
        "\n"
      ]
    }
  ],
  "metadata": {
    "colab": {
      "provenance": [],
      "include_colab_link": true
    },
    "kernelspec": {
      "display_name": "Python 3 (ipykernel)",
      "language": "python",
      "name": "python3"
    },
    "language_info": {
      "codemirror_mode": {
        "name": "ipython",
        "version": 3
      },
      "file_extension": ".py",
      "mimetype": "text/x-python",
      "name": "python",
      "nbconvert_exporter": "python",
      "pygments_lexer": "ipython3",
      "version": "3.10.6"
    }
  },
  "nbformat": 4,
  "nbformat_minor": 5
}